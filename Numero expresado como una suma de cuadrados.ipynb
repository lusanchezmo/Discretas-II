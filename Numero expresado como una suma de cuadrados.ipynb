{
 "cells": [
  {
   "cell_type": "markdown",
   "id": "4183f46e",
   "metadata": {},
   "source": [
    "<h1>Matemáticas Discretas II: 2023-1 | Universidad Nacional De Colombia \n",
    "    <h1/>"
   ]
  },
  {
   "cell_type": "markdown",
   "id": "3eb02fa2",
   "metadata": {},
   "source": [
    "<h1>Tarea: Expresar un número como una suma de cuadrados (pero con la menor cantidad de cuadrados).<h1/>\n"
   ]
  },
  {
   "cell_type": "markdown",
   "id": "65abfca8",
   "metadata": {},
   "source": [
    "<p>El código que se muestra es una función de Python llamada \"numAsSumSquares\" que toma un número entero como entrada y devuelve una cadena que representa el número como suma de cuadrados enteros.\n",
    "\n",
    "La función utiliza la biblioteca matemática incorporada de Python y su método \"sqrt\" para calcular la raíz cuadrada de un número y la función \"floor\" para redondear el resultado a un número entero.\n",
    "\n",
    "La variable \"m\" se inicializa en 0 y se utiliza como un contador para seguir la cantidad de cuadrados enteros que se agregan a la cadena. La variable \"l\" se inicializa como una cadena vacía que se utilizará para almacenar la cadena de la suma de cuadrados.\n",
    "\n",
    "La función utiliza un bucle \"while\" que se ejecutará mientras la diferencia entre \"n\" y \"m\" no sea cero. En cada iteración del bucle, se calcula la raíz cuadrada del número \"n\" menos \"m\" y se redondea hacia abajo al número entero más cercano. Luego, se agrega este número al final de la cadena \"l\" junto con el símbolo \"^2+\" para indicar que es un cuadrado. La variable \"m\" se actualiza sumando el cuadrado del número recién calculado.\n",
    "\n",
    "Finalmente, se devuelve la cadena \"l\" sin el último símbolo \"^2+\" que se agregó en la última iteración del bucle. Esto se logra utilizando la notación de rebanada de cadena en Python (\"[:-1]\") que devuelve todos los caracteres de la cadena excepto el último<p/>"
   ]
  },
  {
   "cell_type": "code",
   "execution_count": 2,
   "id": "bd7c68b8",
   "metadata": {},
   "outputs": [],
   "source": [
    "import math\n",
    "\n",
    "def numAsSumSquares(n):\n",
    "  m=0      # Inicializa la variable en cero\n",
    "  l=\"\"     # En esta variable se almacena la cadena que representa al entero oexpresado como la suma de cuadrados\n",
    "  while ((n-m)!=0):      #Bucle while: se ejecuta mientras la resta de n y m sea distinto de cero\n",
    "    l=l+str(math.floor(math.sqrt((n-m))))+\"^2+\"\n",
    "    m=m+((math.floor(math.sqrt((n-m))))**2)    # realiza la operacion de ir \"partiendo por la mitad\"\n",
    "  return l[:-1] # retorna la cadena sin el último símbolo que es un +"
   ]
  },
  {
   "cell_type": "code",
   "execution_count": null,
   "id": "fcb7aff4",
   "metadata": {},
   "outputs": [],
   "source": []
  }
 ],
 "metadata": {
  "kernelspec": {
   "display_name": "Python 3 (ipykernel)",
   "language": "python",
   "name": "python3"
  },
  "language_info": {
   "codemirror_mode": {
    "name": "ipython",
    "version": 3
   },
   "file_extension": ".py",
   "mimetype": "text/x-python",
   "name": "python",
   "nbconvert_exporter": "python",
   "pygments_lexer": "ipython3",
   "version": "3.10.10"
  }
 },
 "nbformat": 4,
 "nbformat_minor": 5
}
