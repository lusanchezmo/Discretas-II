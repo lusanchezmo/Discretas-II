{
 "cells": [
  {
   "cell_type": "markdown",
   "id": "9971217d",
   "metadata": {},
   "source": [
    "# <center>PROYECTO FINAL <br>RSA EN CRIPTOGRAFÍA</center>"
   ]
  },
  {
   "cell_type": "markdown",
   "id": "b5422565",
   "metadata": {},
   "source": [
    "\n",
    "\n",
    "\n",
    "\n",
    "\n",
    "#\n",
    "\n",
    "#\n",
    "\n",
    "\n",
    "#\n",
    "\n",
    "\n",
    "#"
   ]
  },
  {
   "cell_type": "markdown",
   "id": "aa8c41a6",
   "metadata": {},
   "source": [
    "### <center>Presentado por</center>\n",
    "#### <center>Juan Esteban Mahecha Trujillo  - jmahechat@unal.edu.co</center>\n",
    "#### <center>Juan Esteban Carranza Salazar- jcarranza@unal.edu.co</center>\n",
    "#### <center>Luis Daniel Sanchez Molina - lusanchezmo@unal.edu.co</center>\n",
    "#### <center>Cristhian Alejandro Alarcon Florido- calarconf@unal.edu.co </center>\n"
   ]
  },
  {
   "cell_type": "markdown",
   "id": "e4915920",
   "metadata": {},
   "source": [
    "\n",
    "<style>\n",
    "h3 {\n",
    "    line-height: 0.8; /* Valor menor al estándar, ajusta según tus preferencias */\n",
    "}\n",
    "</style>\n",
    "\n",
    "\n",
    "\n",
    "\n",
    "\n",
    "#"
   ]
  },
  {
   "cell_type": "markdown",
   "id": "d057a53b",
   "metadata": {},
   "source": [
    "### <center>Profesor:</center>\n",
    "#### <center>Francisco Albeiro Gomez Jaramillo</center>\n",
    "#### <center>fagomezj@unal.edu.cov</center>\n"
   ]
  },
  {
   "cell_type": "markdown",
   "id": "f5d340e4",
   "metadata": {},
   "source": [
    "\n",
    "\n",
    "\n",
    "\n",
    "\n",
    "\n",
    "#"
   ]
  },
  {
   "cell_type": "markdown",
   "id": "a0745204",
   "metadata": {},
   "source": [
    "![Pic](https://identidad.unal.edu.co/fileadmin/user_upload/escudo_unal_2015-01.jpg)"
   ]
  },
  {
   "cell_type": "markdown",
   "id": "8e58ceae",
   "metadata": {},
   "source": [
    "### <center>Universidad Nacional de Colombia </center>\n",
    "### <center>Facultad de Ingeniería</center>\n",
    "### <center>Departamento de Ingeniería de Sistemas</center>\n",
    "### <center>2023</center>\n"
   ]
  },
  {
   "cell_type": "markdown",
   "id": "05d9373e",
   "metadata": {},
   "source": [
    "#\n",
    "\n",
    "\n",
    "\n",
    "\n",
    "\n",
    "\n",
    "\n",
    "\n",
    "#\n",
    "\n",
    "\n",
    "\n",
    "\n",
    "\n",
    "\n",
    "\n",
    "\n",
    "#\n",
    "\n",
    "\n",
    "\n",
    "\n",
    "\n",
    "\n",
    "\n",
    "\n"
   ]
  },
  {
   "cell_type": "markdown",
   "id": "4b201c1f",
   "metadata": {},
   "source": [
    "### <center>CONTENIDO</center>\n"
   ]
  },
  {
   "cell_type": "markdown",
   "id": "e49c2beb",
   "metadata": {},
   "source": [
    "#### 1. Introducción \n",
    "#### 2. Materiales y métodos\n",
    "#### 3. Resultados\n",
    "#### 4. Conclusiones\n"
   ]
  },
  {
   "cell_type": "markdown",
   "id": "44d8329b",
   "metadata": {},
   "source": [
    "\n",
    "\n",
    "\n",
    "\n",
    "\n",
    "\n",
    "\n",
    "\n",
    "\n",
    "\n",
    "\n",
    "\n",
    "\n",
    "\n",
    "\n",
    "#\n",
    "\n",
    "\n",
    "\n",
    "\n",
    "\n",
    "\n",
    "\n",
    "\n",
    "\n",
    "\n",
    "\n",
    "\n",
    "\n",
    "\n",
    "\n",
    "\n",
    "\n",
    "\n",
    "\n",
    "\n",
    "#\n",
    "\n",
    "\n",
    "\n",
    "\n",
    "\n",
    "\n",
    "\n",
    "\n",
    "\n",
    "\n",
    "\n",
    "\n",
    "\n",
    "\n",
    "\n",
    "\n",
    "\n",
    "\n",
    "\n",
    "\n",
    "\n",
    "\n",
    "\n",
    "\n",
    "\n",
    "\n",
    "\n",
    "\n",
    "#\n",
    "\n",
    "\n",
    "\n",
    "\n",
    "\n",
    "\n",
    "\n",
    "\n",
    "\n",
    "\n",
    "\n",
    "\n",
    "\n",
    "\n",
    "\n",
    "\n",
    "\n",
    "\n",
    "\n",
    "\n",
    "\n",
    "\n",
    "\n",
    "\n",
    "\n",
    "\n",
    "#"
   ]
  },
  {
   "cell_type": "markdown",
   "id": "a0fcc94c",
   "metadata": {},
   "source": [
    "### 1. Introducción"
   ]
  },
  {
   "cell_type": "markdown",
   "id": "74ab2980",
   "metadata": {},
   "source": [
    "En la era digital, la seguridad de la información es una preocupación fundamental sobre todo cuando prácticamente toda nuestra información está en la red y podría ser obtenida por personas con intenciones no muy buenas. Para garantizar la confidencialidad y la integridad de los datos transmitidos a través de canales de comunicación inseguros, se desarrolló el algoritmo RSA (Rivest-Shamir-Adleman). El RSA es un sistema de criptografía de clave pública que revolucionó el campo de la seguridad cibernética. Este algoritmo, desarrollado en 1977 por Ron Rivest, Adi Shamir y Leonard Adleman, surgió para abordar diversas problemáticas y necesidades en el ámbito de la criptografía.\n",
    "\n",
    "Años atrás, el intercambio seguro de claves en la criptografía de clave simétrica era un desafío considerable pues se requería una distribución segura de claves compartidas entre el remitente y el destinatario, lo que resultaba complicado y vulnerable a ataques. El RSA resolvió este problema al introducir el concepto de criptografía de clave pública. En lugar de utilizar una clave compartida, el RSA utiliza un par de claves: una clave pública y una clave privada. La clave pública se distribuye ampliamente y se utiliza para cifrar los mensajes, mientras que la clave privada, conocida sólo por el destinatario, se utiliza para descifrarlos. Esto permitió un intercambio seguro de claves a través de canales de comunicación inseguros sin comprometer la seguridad, lo cual causó una gran revolución en la ciberseguridad.\n",
    "\n",
    "Claramente la mayor problemática que motivó a la creación del RSA fue la seguridad informática, sobretodo cuando la era digital estaba en su mayor auge, ya que los métodos que se usaban antes para proteger nuestra información era muy vulnerable y personas con el suficiente conocimiento podrían acceder a ella, el RSA no solo resolvió múltiples problemáticas como el intercambio seguro de claves, seguridad en comunicaciones, autenticidad e integridad de la información con la implementación de firmas digitales y una distribución segura de claves, sino que también jugó un papel importante en el fortalecimiento de la seguridad de la información en el ámbito internacional, ya que mientras más se vuelven relevantes la comunicaciones digitales de igual forma el espionaje cibernético tomaba fuerza, al punto de convertirse en una preocupación para los gobiernos.\n",
    "\n",
    "En este proyecto lo que buscamos es poder realizar con los conocimientos aprendidos en el curso de Matemáticas Discretas II, el algoritmo del RSA, que aunque ya existe siempre es interesante y muy enriquecedor conocer cómo es su funcionamiento a profundidad y comprender los conceptos, metodos y tecnicas que se aplican en este para su implementación, para así tal vez en un futuro poder crear nuevas técnicas y algoritmos criptográficos que puedan de igual forma dar solución a las amenazas que surgen dia a dia en el ciberespacio, ya que tanto como la tecnología evoluciona, también lo hacen los métodos de ciberataque, por ende en algún momento el RSA puede llegar a ser obsoleto y tendremos que encontrar otros rumbos para dar una solución.\n",
    "\n"
   ]
  },
  {
   "cell_type": "markdown",
   "id": "c941f470",
   "metadata": {},
   "source": [
    "### 2. Materiales y métodos"
   ]
  },
  {
   "cell_type": "markdown",
   "id": "38d741aa",
   "metadata": {},
   "source": [
    "La descripción formal matemática de cómo se llegó al algoritmo RSA implica comprender los conceptos y técnicas fundamentales en los que se basa. A continuación, se presenta una descripción paso a paso de los principales conceptos matemáticos involucrados en el desarrollo del algoritmo RSA:\n",
    "\n",
    "**Números primos:** El algoritmo RSA se basa en la dificultad de factorizar grandes números enteros en sus factores primos. En la teoría de números, sabemos que cualquier número entero mayor que 1 puede ser expresado de forma única como un producto de números primos elevados a ciertas potencias\n",
    "\n",
    "**Phi de Euler:** La función de Euler, denotada como φ(n), devuelve la cantidad de enteros positivos menores o iguales que n y coprimos con n (no tienen factores comunes excepto 1). En el desarrollo del algoritmo RSA, se utiliza la función de Euler para calcular el valor de φ(n), que se utiliza en la generación de claves.\n",
    "\n",
    "**Congruencias y aritmética modular:** La aritmética modular es una rama de la teoría de números que se utiliza ampliamente en el algoritmo RSA. En particular, se utilizan las congruencias para representar la relación de equivalencia entre números en relación con un módulo dado. La congruencia se denota por el símbolo ≡ y se basa en la propiedad de que dos números tienen el mismo residuo cuando se dividen por el mismo módulo.\n",
    "\n",
    "**Inverso multiplicativo:** En el algoritmo RSA, es necesario encontrar el inverso multiplicativo de un número módulo a otro número. El inverso multiplicativo de un número a módulo n es otro número b tal que (a * b) ≡ 1 (mod n). En otras palabras, es el número que, al multiplicarse por a y luego dividirse por n, da como resto 1.\n",
    "\n"
   ]
  },
  {
   "cell_type": "markdown",
   "id": "69030237",
   "metadata": {},
   "source": [
    "### 2.1. Modelo matemático"
   ]
  },
  {
   "cell_type": "markdown",
   "id": "1fe5493c",
   "metadata": {},
   "source": [
    "En RSA cada usuario coloca en un archivo público un procedimiento de encriptación E. Es decir, el archivo público es un directorio que proporciona el procedimiento de cifrado de cada\n",
    "usuario. El usuario mantiene en secreto los detalles de su correspondiente procedimiento de descifrado D.\n",
    "\n",
    "Para descifrar la forma cifrada de un mensaje M produce M. Formalmente,\n"
   ]
  },
  {
   "cell_type": "markdown",
   "id": "708ae28f",
   "metadata": {},
   "source": [
    "![Ejemplo de imagen](f1.png)\n"
   ]
  },
  {
   "cell_type": "markdown",
   "id": "95efa384",
   "metadata": {},
   "source": [
    "Al revelar públicamente E, el usuario no revela una manera fácil de calcular D. Esto significa que en la práctica sólo él puede descifrar mensajes cifrados con E, o calcular D eficientemente.\n",
    "Si primero se descifra un mensaje M y luego se cifra, el resultado es M. Formalmente,\n"
   ]
  },
  {
   "cell_type": "markdown",
   "id": "aa74cb06",
   "metadata": {},
   "source": [
    "![Ejemplo de imagen](f2.png)\n"
   ]
  },
  {
   "cell_type": "markdown",
   "id": "b20e87f1",
   "metadata": {},
   "source": [
    "Para cifrar un mensaje M con nuestro método, utilizando una clave de cifrado pública (e; n),\n",
    "procederemos de la siguiente manera. (Aquí e y n son un par de números enteros positivos).\n",
    "\n",
    "1. Primero, representa el mensaje como un número entero entre 0 y n-1. \n",
    "2. Luego, cifraremos el mensaje elevándolo al módulo de potencia eth n. Eso es el resultado (el texto cifrado C) es el resto cuando Me se divide por n.\n",
    "3. Para descifrar el texto cifrado, elévelo a otra potencia d, nuevamente módulo n. Los algoritmos de encriptación y desencriptación E y D son así:\n"
   ]
  },
  {
   "cell_type": "markdown",
   "id": "3c1ed798",
   "metadata": {},
   "source": [
    "![Ejemplo de imagen](p3.png)\n"
   ]
  },
  {
   "cell_type": "markdown",
   "id": "c9ce7e70",
   "metadata": {},
   "source": [
    "¿Cómo calcular las claves de cifrado y descifrado usando RSA?\n",
    "Primero calculamos n como el producto de dos números primos p y q:\n"
   ]
  },
  {
   "cell_type": "markdown",
   "id": "20bb7095",
   "metadata": {},
   "source": [
    "![Ejemplo de imagen](f4.png)\n"
   ]
  },
  {
   "cell_type": "markdown",
   "id": "9f2d6034",
   "metadata": {},
   "source": [
    "Estos números primos son números primos “aleatorios” muy grandes. Aunque esto lo haremos público, los factores p y q estarán efectivamente ocultos a todos los demás debido a la enorme dificultad de factorizar n. Esto también oculta la forma en que d puede derivarse de e. \n"
   ]
  },
  {
   "cell_type": "markdown",
   "id": "61391ed6",
   "metadata": {},
   "source": [
    "Luego elegiremos un entero d para que sea un entero aleatorio grande que sea coprimo  a (p − 1) · (q − 1). Es decir, comprueba que d satisface:\n"
   ]
  },
  {
   "cell_type": "markdown",
   "id": "2e13b6f7",
   "metadata": {},
   "source": [
    "![Ejemplo de imagen](f5.png)\n"
   ]
  },
  {
   "cell_type": "markdown",
   "id": "623fdb51",
   "metadata": {},
   "source": [
    "Dado que d es primo relativo a φ(n), entonces tiene un inverso multiplicativo e en el círculo de enteros módulo φ(n):"
   ]
  },
  {
   "cell_type": "markdown",
   "id": "0b0521a2",
   "metadata": {},
   "source": [
    "![Ejemplo de imagen](f6.png)\n"
   ]
  },
  {
   "cell_type": "markdown",
   "id": "78b4c718",
   "metadata": {},
   "source": [
    "Probamos en la siguiente sección que esto garantiza que (1) y (2) se cumplen, es decir, que E\n",
    "y D son permutaciones inversas.\n",
    "Demostramos la corrección del algoritmo de descifrado usando una identidad debida\n",
    "a Euler y Fermat para cualquier número entero (mensaje) M que es primo relativo a n,\n"
   ]
  },
  {
   "cell_type": "markdown",
   "id": "45013c3f",
   "metadata": {},
   "source": [
    "![Ejemplo de imagen](f7.png)\n"
   ]
  },
  {
   "cell_type": "markdown",
   "id": "907ea5ec",
   "metadata": {},
   "source": [
    "Aquí φ(n) es la función totient de Euler que da un número de enteros positivos menor que n\n",
    "que son primos relativos a n. Para números primos p,\n"
   ]
  },
  {
   "cell_type": "markdown",
   "id": "13b955cf",
   "metadata": {},
   "source": [
    "![Ejemplo de imagen](f8.png)\n"
   ]
  },
  {
   "cell_type": "markdown",
   "id": "1da018ca",
   "metadata": {},
   "source": [
    "En nuestro caso, tenemos por propiedades elementales de la función totient"
   ]
  },
  {
   "cell_type": "markdown",
   "id": "d384bc33",
   "metadata": {},
   "source": [
    "![Ejemplo de imagen](f9.png)\n"
   ]
  },
  {
   "cell_type": "markdown",
   "id": "83ad9350",
   "metadata": {},
   "source": [
    "Dado que d es primo relativo a φ(n), entonces tiene un inverso multiplicativo e en el círculo de enteros módulo φ(n):"
   ]
  },
  {
   "cell_type": "markdown",
   "id": "0bbbb872",
   "metadata": {},
   "source": [
    "![Ejemplo de imagen](f10.png)\n"
   ]
  },
  {
   "cell_type": "markdown",
   "id": "7877993c",
   "metadata": {},
   "source": [
    "Ahora demostramos que las ecuaciones (1) y (2) se cumplen (es decir, que el descifrado funciona correctamente si e y d se eligen como anteriormente mencionado). Ahora\n"
   ]
  },
  {
   "cell_type": "markdown",
   "id": "f9422a28",
   "metadata": {},
   "source": [
    "![Ejemplo de imagen](f11.png)\n"
   ]
  },
  {
   "cell_type": "markdown",
   "id": "b7120746",
   "metadata": {},
   "source": [
    "De (3) vemos que para todo M tal que p no divide a M"
   ]
  },
  {
   "cell_type": "markdown",
   "id": "d0945bdf",
   "metadata": {},
   "source": [
    "![Ejemplo de imagen](f12.png)"
   ]
  },
  {
   "cell_type": "markdown",
   "id": "9551d8d8",
   "metadata": {},
   "source": [
    "y ciertamente (p-1) divide a (n)"
   ]
  },
  {
   "cell_type": "markdown",
   "id": "cd8a025c",
   "metadata": {},
   "source": [
    "![Ejemplo de imagen](f13.png)"
   ]
  },
  {
   "cell_type": "markdown",
   "id": "05ebc7ec",
   "metadata": {},
   "source": [
    "Esto es trivialmente cierto cuando M ≡ 0 (mod p), por lo que esta igualdad en realidad se cumple para todo M. Argumentando de manera similar para q se obtiene\n"
   ]
  },
  {
   "cell_type": "markdown",
   "id": "ebefb793",
   "metadata": {},
   "source": [
    "![Ejemplo de imagen](f14.png)"
   ]
  },
  {
   "cell_type": "markdown",
   "id": "0c14c2ae",
   "metadata": {},
   "source": [
    "Juntas, estas dos últimas ecuaciones implican que para todo M,\n"
   ]
  },
  {
   "cell_type": "markdown",
   "id": "84c3161f",
   "metadata": {},
   "source": [
    "![Ejemplo de imagen](f15.png)"
   ]
  },
  {
   "cell_type": "markdown",
   "id": "de2a30ba",
   "metadata": {},
   "source": [
    "Esto implica (1) y (2) para todo M, 0 ≤ M < n. Por lo tanto E y D son inversas permutaciones\n"
   ]
  },
  {
   "cell_type": "markdown",
   "id": "f7873094",
   "metadata": {},
   "source": [
    "### 3. Resultados"
   ]
  },
  {
   "cell_type": "markdown",
   "id": "4d08d2e8",
   "metadata": {},
   "source": [
    "Resultado final del codigo"
   ]
  },
  {
   "cell_type": "code",
   "execution_count": 12,
   "id": "48036ddd",
   "metadata": {},
   "outputs": [],
   "source": [
    "# si definimos una funcion que implemente RSA y definimos: p = 17, q= 23, entonces n = 391 y el totient de Euler \n",
    "# va a ser 352, escogemos un numero entre 2 y 352 que sea primo relativo de 352, a = 103 cumple con los requisitos,\n",
    "#la inversa de a mod phi(n) -> inversa de 103 mod 352 es 311, vamos a obtener las siguientes funciones de encriptacion \n",
    "#y desencriptacion \n",
    "def encrypt(x,a,n):\n",
    "    return (x**a)%n\n",
    "\n",
    "def decrypt(y,n):\n",
    "    b=311 # b es privado\n",
    "    return (y**b)%n\n",
    "\n",
    "\n",
    "# con el fin de romper el cifrado necesitamos encontrar la variable privada 'b' a partir de las variables publcas que poseemos,\n",
    "# necesitanos encontrar 'b' a partir de 'a' y de 'n', para eso se va a seguir el siguente procedimiento:\n",
    "# sabemos que b = a^-1 mod phi(n), por lo tanto, teniendo n conocido podemos calcular el totient de euler con la funcion \n",
    "# phiEuler(n) que se apoya en la descomposición en factores primos que genera descomponerPrimos(n), aca esta la mayor dificultad debido\n",
    "# a que descomponer en factores primos numeros primos es una tarea ardua computacionalmente, despues \n",
    "# apoyandonos del algoritmo extendido de Euclides despejamos la inversa de 'a' mod 'm'\n",
    "def descomponerPrimos(n): \n",
    "    exponente = 0 # exponente: va a almacenar cuantas divisiones por i se han realizado\n",
    "    i=2    # i: va a almacenar el primo en que se va contando\n",
    "    factores =[] #factores: va a almacenar la descomposicion en subarreglos con el formato [primo, exponente]\n",
    "    while(n>1): # se repite mientras n sea mayor a 1\n",
    "        while(n%i==0): # solo numeros primos cuemplen la condicion\n",
    "            exponente+=1 # por cada que se divida va a aumentar el exponente\n",
    "            n=n/i #n se reemplaza por la division en el primo\n",
    "        if exponente>0: # sí i es primo\n",
    "            factores.append([i,exponente]) # se almacena el primo con el exponente\n",
    "        exponente=0 # se reinicia\n",
    "        i+=1 \n",
    "    return factores\n",
    "\n",
    "def phiEuler(n):\n",
    "    if(n==1): # el totient de euler de 1 es 1\n",
    "        return 1\n",
    "    descomposicion = descomponerPrimos(n) # se genera un arreglo de factores primos y sus exponentes \n",
    "    resultado = 1\n",
    "    for i in descomposicion:\n",
    "        resultado = resultado * ((i[0]**i[1]) - (i[0]**(i[1]-1)))\n",
    "    return resultado\n",
    "#a partir del algoritmo de euclides se resuelve mcd(a, m) = ax +my, donde vamos a usar m = phi(n), se retornan  \n",
    "#las variables de la ecuacion \n",
    "def extendedEuclidesalgorithm(a, m):\n",
    "    #print(a, m)\n",
    "    if m == 0:\n",
    "        return a, 1, 0\n",
    "\n",
    "    mcd, x1, y1 = extendedEuclidesalgorithm(m, a % m)\n",
    "    #print(f\"retorna g:{gcd} x1:{x1} y1:{y1}\")\n",
    "    x = y1\n",
    "    y = x1 - (a // m) * y1\n",
    "    return mcd, x, y\n",
    "\n",
    "# se retorna la inversa de a mod m\n",
    "def findInverse(a, m):\n",
    "    mcd, x, y = extendedEuclidesalgorithm(a, m)\n",
    "    if mcd != 1:\n",
    "        raise ValueError(\"No existe una inversa para el número a módulo m.\")\n",
    "    #print(f\"x: {x} m{m}\")\n",
    "    inverse = x % m\n",
    "    return inverse\n",
    "\n",
    "#se retorna la solucion 'b', con la cual ya se puede desencriptar cualquier mensaje \n",
    "def breakRSA(n,a):\n",
    "    return findInverse(a, phiEuler(n))\n",
    "def decryptAny(y,n,a):\n",
    "    b = breakRSA(n,a)\n",
    "    return (y**b)%n\n",
    "#por ultimo ya podemos desencriptar cualquier valor 'y' a partir de las llaves publicas 'n' y 'a'\n",
    "def decryptAny(y,n,a):\n",
    "    b = breakRSA(n,a)\n",
    "    return (y**b)%n\n",
    "\n",
    "\n",
    "\n",
    "######################################################################\n",
    "def encryptString(string, a, n):\n",
    "    return [encrypt(ord(i),a,n) for i in string]\n",
    "\n",
    "def decryptString(array, n):\n",
    "    return ''.join(chr(decrypt(valor,n)) for valor in array)\n",
    "\n",
    "\n",
    "######################################################################\n",
    "\n",
    "#\n",
    "#fuerza bruta \n",
    "#\n",
    "#\n",
    "def encontrar_inverso(a, m):\n",
    "    for i in range(1, m):\n",
    "        if (a * i) % m == 1:\n",
    "            return i\n",
    "    return None\n",
    "\n",
    "def calcular_phi(n):\n",
    "    phi = 0\n",
    "    for i in range(1, n+1):\n",
    "        if son_coprimos(i, n):\n",
    "            phi += 1\n",
    "    return phi\n",
    "\n",
    "\n",
    "def son_coprimos(a, b):\n",
    "    while b != 0:\n",
    "        a, b = b, a % b\n",
    "    return a == 1\n",
    "\n",
    "\n",
    "#se retorna la solucion 'b', con la cual ya se puede desencriptar cualquier mensaje \n",
    "def breakRSA(n,a):\n",
    "    return encontrar_inverso(a, calcular_phi(n))\n"
   ]
  },
  {
   "cell_type": "markdown",
   "id": "68b8df13",
   "metadata": {},
   "source": [
    "### Complejidad Algorítmica:\n",
    "\n",
    "En general, el tiempo de ejecución del algoritmo RSA depende principalmente del tamaño de los números primos utilizados (p y q) y de la magnitud de n. En el código proporcionado, se utiliza un tamaño pequeño para p y q (17 y 23 respectivamente), lo que hace que n sea relativamente pequeño. Por lo tanto, la complejidad de las operaciones clave como la encriptación, desencriptación y romper el cifrado sería considerada baja.\n",
    "\n",
    "**Función descomponerPrimos(n):** Esta función realiza la descomposición en factores primos del número n. Utiliza un enfoque de fuerza bruta para encontrar los factores primos. Su complejidad depende de la magnitud de n y la cantidad de factores primos que tenga. En el peor de los casos, si n es un número primo, la complejidad sería de O(sqrt(n)).\n",
    "\n",
    "**Función phiEuler(n):** Esta función utiliza la función descomponerPrimos(n) para obtener la descomposición en factores primos de n y calcular el valor del totient de Euler. Luego realiza un cálculo basado en los factores primos para obtener el resultado final. La complejidad de esta función también depende de la magnitud de n y la cantidad de factores primos. En el peor de los casos, si n es un número primo, la complejidad sería de O(sqrt(n)).\n",
    "\n",
    "**Función extendedEuclidesalgorithm(a, m):** Esta función implementa el algoritmo extendido de Euclides para encontrar el máximo común divisor (MCD) entre a y m. La complejidad de este algoritmo es O(log(min(a, m))) en el peor de los casos.\n",
    "\n",
    "**Función findInverse(a, m):** Utiliza el algoritmo extendido de Euclides (extendedEuclidesalgorithm) para encontrar la inversa de a módulo m. La complejidad de esta función es la misma que la del algoritmo extendido de Euclides, es decir, O(log(min(a, m))).\n",
    "\n",
    "**Función breakRSA(n, a):** Esta función llama a phiEuler(n) y findInverse(a, phiEuler(n)) para encontrar la variable privada b a partir de las variables públicas n y a. La complejidad de esta función está determinada por las funciones llamadas, por lo que en el peor de los casos sería O(sqrt(n)).\n",
    "\n",
    "**Función decryptAny:**\n",
    "Descomposición en factores primos (descomponerPrimos): La complejidad de esta función depende de la magnitud del número n. En el peor caso, cuando n es un número primo grande, la descomposición en factores primos puede requerir tiempo exponencial. Por lo tanto, su complejidad puede considerarse como O(sqrt(n)).\n",
    "Cálculo del totient de Euler (phiEuler): Esta función utiliza la descomposición en factores primos y realiza operaciones aritméticas simples. La complejidad está dominada por la descomposición en factores primos, por lo que sigue siendo O(sqrt(n)).\n",
    "Algoritmo extendido de Euclides (extendedEuclidesalgorithm): La complejidad de este algoritmo es logarítmica en el mínimo de los dos números a y m. En este caso, m es el totient de Euler (phi(n)), por lo que su complejidad se puede considerar como O(log(n)).\n",
    "Cálculo de la inversa modular (findInverse): Utiliza el algoritmo extendido de Euclides, por lo que su complejidad es O(log(n)).\n",
    "En general, la función decryptAny realiza varias operaciones con complejidades O(sqrt(n)) y O(log(n)), por lo que su complejidad total se puede aproximar como O(sqrt(n)).\n",
    "\n",
    "**Función encrypt:**\n",
    "La función encrypt realiza una operación exponencial modular ((x^a)%n). La complejidad de esta operación es logarítmica en el exponente a, por lo que su complejidad se puede considerar como O(log(a)).\n",
    "\n",
    "**Función decrypt:**\n",
    "La función decrypt realiza una operación exponencial modular ((y^b)%n). Al igual que la función encrypt, la complejidad de esta operación es logarítmica en el exponente b, por lo que su complejidad se puede considerar como O(log(b)).\n"
   ]
  },
  {
   "cell_type": "markdown",
   "id": "1f2e69c0",
   "metadata": {},
   "source": [
    "### Casos de prueba\n"
   ]
  },
  {
   "cell_type": "markdown",
   "id": "715456df",
   "metadata": {},
   "source": [
    "![Ejemplo de imagen](p1.png)"
   ]
  },
  {
   "cell_type": "markdown",
   "id": "8a5f83dc",
   "metadata": {},
   "source": [
    "![Ejemplo de imagen](p2.png)"
   ]
  },
  {
   "cell_type": "markdown",
   "id": "1066c708",
   "metadata": {},
   "source": [
    "![Ejemplo de imagen](s1.png)"
   ]
  },
  {
   "cell_type": "markdown",
   "id": "198a41ae",
   "metadata": {},
   "source": [
    "## Conclusiones"
   ]
  },
  {
   "cell_type": "markdown",
   "id": "4d85e174",
   "metadata": {},
   "source": [
    "Este proyecto nos ha brindado la oportunidad de sumergirnos en el mundo de la criptografía de clave pública y comprender los conceptos fundamentales detrás del RSA, ha medida que hemos ido desarrollando el algoritmo de RSA, hemos podido adquirir conocimientos prácticos sobre cómo funciona y cómo se implementa.\n",
    "\n",
    "Gracias a este proyecto hemos podido aplicar los conceptos teóricos aprendidos en el curso de matemáticas Discretas II en un entorno práctico, lo cual nos ha permitido mejorar nuestra comprensión de la programación, la manipulación de datos y los algoritmos criptográficos.\n",
    "\n",
    "Podemos evidenciar algunas limitaciones del algoritmo RSA tales como: Que a medida que aumenta el tamaño de los números primos utilizados en el algoritmo, se incrementa la seguridad, pero también aumenta el tiempo de cálculo requerido. Claves más largas pueden afectar negativamente el rendimiento de los sistemas que utilizan RSA. La administración de claves puede ser compleja y crítica para mantener la seguridad del sistema. \n",
    "\n",
    "Vulnerabilidad ante ataques cuánticos, los avances en computación cuántica podrían eventualmente romper la seguridad del RSA al permitir la factorización eficiente de números grandes. Es por eso que se están investigando y desarrollando algoritmos criptográficos post cuánticos.\n"
   ]
  },
  {
   "cell_type": "markdown",
   "id": "d014b41c",
   "metadata": {},
   "source": [
    "### LINK VIDEO:"
   ]
  },
  {
   "cell_type": "markdown",
   "id": "0d6a52d0",
   "metadata": {},
   "source": [
    "https://youtu.be/KxzQ1JqUgBU"
   ]
  },
  {
   "cell_type": "markdown",
   "id": "7d1ab487",
   "metadata": {},
   "source": [
    "### Link de presentación"
   ]
  },
  {
   "cell_type": "markdown",
   "id": "6c6e6d70",
   "metadata": {},
   "source": [
    "https://www.canva.com/design/DAFlYvimcJ0/fNBbM0g3PLrlslDCNFoUwQ/edit?utm_content=DAFlYvimcJ0&utm_campaign=designshare&utm_medium=link2&utm_source=sharebutton"
   ]
  },
  {
   "cell_type": "code",
   "execution_count": null,
   "id": "fc2948ae",
   "metadata": {},
   "outputs": [],
   "source": []
  }
 ],
 "metadata": {
  "kernelspec": {
   "display_name": "Python 3 (ipykernel)",
   "language": "python",
   "name": "python3"
  },
  "language_info": {
   "codemirror_mode": {
    "name": "ipython",
    "version": 3
   },
   "file_extension": ".py",
   "mimetype": "text/x-python",
   "name": "python",
   "nbconvert_exporter": "python",
   "pygments_lexer": "ipython3",
   "version": "3.11.4"
  }
 },
 "nbformat": 4,
 "nbformat_minor": 5
}
