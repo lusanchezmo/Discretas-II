{
 "cells": [
  {
   "cell_type": "markdown",
   "id": "30311f84",
   "metadata": {},
   "source": [
    "<h1>Matemáticas Discretas II: 2023-1 | Universidad Nacional De Colombia \n",
    "    <h1/>"
   ]
  },
  {
   "cell_type": "markdown",
   "id": "497ee8bf",
   "metadata": {},
   "source": [
    "<h1>Tarea: Comprobar el tiempo por el método tradicional de comprobar 1 a 1, vs. Totient de Euler.<h1/>"
   ]
  },
  {
   "cell_type": "markdown",
   "id": "970c56ab",
   "metadata": {},
   "source": [
    "<h1> Luis Daniel Sánchez Molina </h1>"
   ]
  },
  {
   "cell_type": "markdown",
   "id": "ff7237e0",
   "metadata": {},
   "source": [
    "<h4> 1. Comprobación del tiempo por el método tradicional </h4>"
   ]
  },
  {
   "cell_type": "markdown",
   "id": "b2c37eb7",
   "metadata": {},
   "source": [
    "<p> En este algoritmo, vamos a obtener los generadores de un grupo ciclico mediante el método tradicional, es decir, a fuerza bruta. <p/>"
   ]
  },
  {
   "cell_type": "code",
   "execution_count": 2,
   "id": "c9496011",
   "metadata": {},
   "outputs": [],
   "source": [
    "# Comprobación del tiempo que tarda el algoritmo por método tradicional.\n",
    "\n",
    "def getGenerators(arr):  # Función que obtiene los generadores de un grupo\n",
    "  generators = []        # por el método tradicional\n",
    "  for i in range(arr):   # En este caso usamos dos bucles anidados\n",
    "    subgroup = []        # lo que realentiza el algoritmo\n",
    "    j = 1\n",
    "    while(j<arr+3):                  # \n",
    "      number = (i*j)%arr             # el múmero sera i+j mod tamaño del grupo\n",
    "      if(number not in subgroup):    # Si el número no esta en el subgrupo, entonces se almacena\n",
    "        subgroup.append(number)\n",
    "      else:\n",
    "        j = arr+3                    # De lo contrario aumenta el contador y pasa a verificar otro\n",
    "      j+=1\n",
    "    if(len(subgroup)==arr):\n",
    "      generators.append(i)\n",
    "\n",
    "  return generators     #Esta función retorna un arreglo con \n",
    "                        #los generadores de un grupo"
   ]
  },
  {
   "cell_type": "code",
   "execution_count": 7,
   "id": "64bdc684",
   "metadata": {},
   "outputs": [
    {
     "name": "stdout",
     "output_type": "stream",
     "text": [
      "[1, 5, 7, 11]\n"
     ]
    }
   ],
   "source": [
    "print(getGenerators(12))"
   ]
  },
  {
   "cell_type": "markdown",
   "id": "9577f0f7",
   "metadata": {},
   "source": [
    "<h4>2. Comprobación del tiempo por el método del Totient de Euler<h4/>"
   ]
  },
  {
   "cell_type": "markdown",
   "id": "50d1a81a",
   "metadata": {},
   "source": [
    "<p>En este caso se realizara la comprobación por el método de phi de Euler o Totient de Euler, en el cual se hace uso del concepto de números coprimos, adicional a ello tendremos que usar un algoritmo para obtener el máximo común divisor de dos números. <p/>"
   ]
  },
  {
   "cell_type": "code",
   "execution_count": 20,
   "id": "70d7d67c",
   "metadata": {},
   "outputs": [],
   "source": [
    "\n",
    "\n",
    "# Algoritmo del máximo cumún divisor \n",
    "# Algoritmo de Euclides \n",
    "def mcd(a, b):\n",
    "    temporal = 0     # Creamos una variable temporal \n",
    "    while b != 0:    # mientras b sea distinto de cero continuamos el bucle\n",
    "        temporal = b     # Ahora temporal va a ser igual a b\n",
    "        b = a % b        # Y b será igual a a mod b \n",
    "        a = temporal     # a pasa a ser igual a temporal\n",
    "    return a             # retornamos a, que vendría siendo el mcd(a,b)"
   ]
  },
  {
   "cell_type": "markdown",
   "id": "6e62425e",
   "metadata": {},
   "source": [
    "<p> A continuación el algoritmo del Totient de Euler</p>"
   ]
  },
  {
   "cell_type": "code",
   "execution_count": 21,
   "id": "7934bef5",
   "metadata": {},
   "outputs": [],
   "source": [
    "\n",
    "def totientEuler(arr):   # Usando el Totient de Euler\n",
    "  generators = []                # Creamos un arreglo que almacena los generadores\n",
    "  for x in range(1,arr+1):       # Con un bucle verficamos cuales son o no generadores \n",
    "    if(mcd(x,arr)==1):           # verificamos si los números son coprimos\n",
    "      generators.append(x)       # En caso de que lo lleguen a ser, almacenamos el número en los generadores \n",
    "  return generators              # retornamos los generadores\n"
   ]
  },
  {
   "cell_type": "code",
   "execution_count": 22,
   "id": "6e671eb8",
   "metadata": {},
   "outputs": [
    {
     "name": "stdout",
     "output_type": "stream",
     "text": [
      "[1, 5, 7, 11]\n"
     ]
    }
   ],
   "source": [
    "print(totientEuler(12))"
   ]
  },
  {
   "cell_type": "markdown",
   "id": "f4051c38",
   "metadata": {},
   "source": [
    "<h3> Función que descompone un número en sus factores primos <h3/>"
   ]
  },
  {
   "cell_type": "markdown",
   "id": "171727c9",
   "metadata": {},
   "source": [
    "<p>A continuación se presenta un algoritmo que descompone un número dado \"n\" en sus respectivos factores primos. Primeramente es necesario tener una funcion que descomponga el numnero n en factores primos donde n es el numero a descomponer.\n",
    "La siguiente función devuelve la descomposición en el un arreglo con el formato [[primo, exponente], ... , [primo, exponente]]<p/>"
   ]
  },
  {
   "cell_type": "code",
   "execution_count": 25,
   "id": "3ef4036e",
   "metadata": {},
   "outputs": [],
   "source": [
    "def descomposePrimes(n): \n",
    "    exponente = 0                                   # exponente\n",
    "    i=2                                             # i: almacena los primos\n",
    "    factores =[]                                    \n",
    "    while(n>1):                                     # bucle, el cual se repite mientras n sea mayor a 1\n",
    "        while(n%i==0):                              # solo numeros primos cuemplen la condicion\n",
    "            exponente+=1\n",
    "            n=n/i                                   # n se reemplaza por la division en el primo\n",
    "        if exponente>0: # sí i es primo\n",
    "            factores.append([i,exponente])          # se almacena el primo con el exponente\n",
    "        exponente=0 # se reinicia\n",
    "        i+=1 \n",
    "    return factores                                 # retorna el arreglo con los factores primos"
   ]
  },
  {
   "cell_type": "code",
   "execution_count": 26,
   "id": "7a9396cd",
   "metadata": {},
   "outputs": [
    {
     "name": "stdout",
     "output_type": "stream",
     "text": [
      "[[2, 1], [5, 1]]\n"
     ]
    }
   ],
   "source": [
    "print(descomposePrimes(10))"
   ]
  },
  {
   "cell_type": "code",
   "execution_count": null,
   "id": "1118165e",
   "metadata": {},
   "outputs": [],
   "source": []
  }
 ],
 "metadata": {
  "kernelspec": {
   "display_name": "Python 3 (ipykernel)",
   "language": "python",
   "name": "python3"
  },
  "language_info": {
   "codemirror_mode": {
    "name": "ipython",
    "version": 3
   },
   "file_extension": ".py",
   "mimetype": "text/x-python",
   "name": "python",
   "nbconvert_exporter": "python",
   "pygments_lexer": "ipython3",
   "version": "3.10.10"
  }
 },
 "nbformat": 4,
 "nbformat_minor": 5
}
