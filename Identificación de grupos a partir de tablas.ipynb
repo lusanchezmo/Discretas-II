{
 "cells": [
  {
   "cell_type": "markdown",
   "id": "3ef3d966",
   "metadata": {},
   "source": [
    "<h1>Matemáticas Discretas 2: 2023-1 | Universidad Nacional De Colombia</h1>"
   ]
  },
  {
   "cell_type": "markdown",
   "id": "4b68cc72",
   "metadata": {},
   "source": [
    "<h1>Luis Daniel Sánchez Molina</h1>"
   ]
  },
  {
   "cell_type": "markdown",
   "id": "31d651a5",
   "metadata": {},
   "source": [
    "<h3>ALGORITMO PARA COMPROBAR SI LA OPERACIÓN DE UN CONJUNTO ES UN CUADRO LATINO O UN GRUPO<h3/>"
   ]
  },
  {
   "cell_type": "markdown",
   "id": "8f76294a",
   "metadata": {},
   "source": [
    "<p>En el presente reto se nos solicita realizar un algoritmo que facilite el análisis de las tablas de Cayley, evaluando las distintas propiedades que conocemos sobre cuadrados latinos y grupos, todo esto con el fin de realiar una función que distinga entre estos dos, es decir, que verifique dada una matriz cuadrada si es o no un cuadrado latino o un grupo o ambos.<p/>"
   ]
  },
  {
   "cell_type": "code",
   "execution_count": 6,
   "id": "43139c73",
   "metadata": {},
   "outputs": [
    {
     "ename": "ModuleNotFoundError",
     "evalue": "No module named 'numpy'",
     "output_type": "error",
     "traceback": [
      "\u001b[1;31m---------------------------------------------------------------------------\u001b[0m",
      "\u001b[1;31mModuleNotFoundError\u001b[0m                       Traceback (most recent call last)",
      "Cell \u001b[1;32mIn[6], line 1\u001b[0m\n\u001b[1;32m----> 1\u001b[0m \u001b[38;5;28;01mimport\u001b[39;00m \u001b[38;5;21;01mnumpy\u001b[39;00m \u001b[38;5;28;01mas\u001b[39;00m \u001b[38;5;21;01mnp\u001b[39;00m                \n\u001b[0;32m      2\u001b[0m \u001b[38;5;28;01mimport\u001b[39;00m \u001b[38;5;21;01mitertools\u001b[39;00m                  \n",
      "\u001b[1;31mModuleNotFoundError\u001b[0m: No module named 'numpy'"
     ]
    }
   ],
   "source": [
    "import numpy as np                \n",
    "import itertools                  "
   ]
  },
  {
   "cell_type": "markdown",
   "id": "20628f82",
   "metadata": {},
   "source": [
    "<h3>Desarrollo<h3/>"
   ]
  },
  {
   "cell_type": "markdown",
   "id": "96e105d2",
   "metadata": {},
   "source": [
    "<h3>Verificación si es o no cuadrado latino<h3/>"
   ]
  },
  {
   "cell_type": "markdown",
   "id": "57287f45",
   "metadata": {},
   "source": [
    "<p>Este código implementa una función llamada isLatinSquare que recibe como parámetro una lista bidimensional g que representa una matriz. La función verifica si la matriz es un cuadrado latino, que es una matriz cuadrada en la que cada fila y cada columna contiene todos los elementos distintos de 1 a n, donde n es el número de filas y columnas de la matriz.\n",
    "\n",
    "El código comienza inicializando dos listas vacías rows y columns y una variable length con la longitud de la matriz g.\n",
    "\n",
    "Luego, la función recorre la matriz mediante dos ciclos anidados utilizando las variables i y j. En cada iteración, verifica si el elemento de la matriz en la posición (i, j) está presente en la lista rows o si el elemento en la posición (j, i) está presente en la lista columns.\n",
    "\n",
    "Si alguno de estos elementos ya se encuentra en la lista correspondiente, significa que la matriz no es un cuadrado latino y la función devuelve False. De lo contrario, agrega los elementos g[i][j] a la lista rows y los elementos g[j][i] a la lista columns.\n",
    "\n",
    "Después de recorrer cada fila y columna de la matriz, se reinician las listas rows y columns para la siguiente iteración.\n",
    "\n",
    "Finalmente, si la función no ha devuelto False durante el recorrido de la matriz, devuelve True, indicando que la matriz es un cuadrado latino.<p/>"
   ]
  },
  {
   "cell_type": "code",
   "execution_count": 4,
   "id": "86bfe1bb",
   "metadata": {},
   "outputs": [],
   "source": [
    "def isLatinSquare(g):\n",
    "  rows = []\n",
    "  columns = []\n",
    "  lenght = len(g)\n",
    "\n",
    "  for i in range(lenght):\n",
    "    for j in range(lenght):\n",
    "      if((g[i][j] in rows) or (g[j][i] in columns)):  #  Esta parte del codigo recorre las filas y \n",
    "        return False                                  # las columnas al mismo tiempo para mayor eficiencia\n",
    "      else:                                           # Si en algun momento el elemento esta repetido retorna false\n",
    "        rows.append(g[i][j])\n",
    "        columns.append(g[j][i])\n",
    "    rows = []\n",
    "    columns = []\n",
    "  return True"
   ]
  },
  {
   "cell_type": "markdown",
   "id": "19200b35",
   "metadata": {},
   "source": [
    "<h3>Verificación si es o no grupo<h3/>"
   ]
  },
  {
   "cell_type": "markdown",
   "id": "3cfbd59c",
   "metadata": {},
   "source": [
    "<p>Primero debemos tener en cuenta que en la definición de grupos, para saber si son o no son grupos, debemos tener presente las propiedades que estos cargan consigo, podemos verlas en este orden\n",
    "</p>\n",
    "<ul>\n",
    "\t<li>La existencia de un elemento neutro</li>\n",
    "    <li>La operación debe ser cerrada.</li>\n",
    "    <li>Debe haber la existencia de elementos inversos para los elementos del conjunto.</li>\n",
    "    <li>La operación debe ser asociativa.</li>\n",
    "</ul>"
   ]
  },
  {
   "cell_type": "code",
   "execution_count": 7,
   "id": "7f43ec46",
   "metadata": {},
   "outputs": [
    {
     "ename": "NameError",
     "evalue": "name 'np' is not defined",
     "output_type": "error",
     "traceback": [
      "\u001b[1;31m---------------------------------------------------------------------------\u001b[0m",
      "\u001b[1;31mNameError\u001b[0m                                 Traceback (most recent call last)",
      "Cell \u001b[1;32mIn[7], line 1\u001b[0m\n\u001b[1;32m----> 1\u001b[0m Conjunto \u001b[38;5;241m=\u001b[39m\u001b[43mnp\u001b[49m\u001b[38;5;241m.\u001b[39marray([\u001b[38;5;124m'\u001b[39m\u001b[38;5;124me\u001b[39m\u001b[38;5;124m'\u001b[39m,\u001b[38;5;124m'\u001b[39m\u001b[38;5;124mg1\u001b[39m\u001b[38;5;124m'\u001b[39m,\u001b[38;5;124m'\u001b[39m\u001b[38;5;124mg2\u001b[39m\u001b[38;5;124m'\u001b[39m,\u001b[38;5;124m'\u001b[39m\u001b[38;5;124mg3\u001b[39m\u001b[38;5;124m'\u001b[39m,\u001b[38;5;124m'\u001b[39m\u001b[38;5;124mg4\u001b[39m\u001b[38;5;124m'\u001b[39m,\u001b[38;5;124m'\u001b[39m\u001b[38;5;124mg5\u001b[39m\u001b[38;5;124m'\u001b[39m])  \u001b[38;5;66;03m# Definimos un arreglo con los elementos que representan el conjunto\u001b[39;00m\n\u001b[0;32m      2\u001b[0m Matriz \u001b[38;5;241m=\u001b[39m np\u001b[38;5;241m.\u001b[39marray([                                 \u001b[38;5;66;03m# Definimos una matriz con los elementos dentro de la tabla de cayley\u001b[39;00m\n\u001b[0;32m      3\u001b[0m             [ \u001b[38;5;124m'\u001b[39m\u001b[38;5;124me\u001b[39m\u001b[38;5;124m'\u001b[39m,\u001b[38;5;124m'\u001b[39m\u001b[38;5;124mg1\u001b[39m\u001b[38;5;124m'\u001b[39m,\u001b[38;5;124m'\u001b[39m\u001b[38;5;124mg2\u001b[39m\u001b[38;5;124m'\u001b[39m,\u001b[38;5;124m'\u001b[39m\u001b[38;5;124mg3\u001b[39m\u001b[38;5;124m'\u001b[39m,\u001b[38;5;124m'\u001b[39m\u001b[38;5;124mg4\u001b[39m\u001b[38;5;124m'\u001b[39m,\u001b[38;5;124m'\u001b[39m\u001b[38;5;124mg5\u001b[39m\u001b[38;5;124m'\u001b[39m],\n\u001b[0;32m      4\u001b[0m             [\u001b[38;5;124m'\u001b[39m\u001b[38;5;124mg1\u001b[39m\u001b[38;5;124m'\u001b[39m, \u001b[38;5;124m'\u001b[39m\u001b[38;5;124me\u001b[39m\u001b[38;5;124m'\u001b[39m,\u001b[38;5;124m'\u001b[39m\u001b[38;5;124mg3\u001b[39m\u001b[38;5;124m'\u001b[39m,\u001b[38;5;124m'\u001b[39m\u001b[38;5;124mg4\u001b[39m\u001b[38;5;124m'\u001b[39m,\u001b[38;5;124m'\u001b[39m\u001b[38;5;124mg5\u001b[39m\u001b[38;5;124m'\u001b[39m,\u001b[38;5;124m'\u001b[39m\u001b[38;5;124mg2\u001b[39m\u001b[38;5;124m'\u001b[39m],\n\u001b[1;32m   (...)\u001b[0m\n\u001b[0;32m      8\u001b[0m             [\u001b[38;5;124m'\u001b[39m\u001b[38;5;124mg5\u001b[39m\u001b[38;5;124m'\u001b[39m,\u001b[38;5;124m'\u001b[39m\u001b[38;5;124mg2\u001b[39m\u001b[38;5;124m'\u001b[39m,\u001b[38;5;124m'\u001b[39m\u001b[38;5;124mg4\u001b[39m\u001b[38;5;124m'\u001b[39m,\u001b[38;5;124m'\u001b[39m\u001b[38;5;124mg1\u001b[39m\u001b[38;5;124m'\u001b[39m,\u001b[38;5;124m'\u001b[39m\u001b[38;5;124mg3\u001b[39m\u001b[38;5;124m'\u001b[39m,\u001b[38;5;124m'\u001b[39m\u001b[38;5;124me\u001b[39m\u001b[38;5;124m'\u001b[39m]\n\u001b[0;32m      9\u001b[0m          ])\n",
      "\u001b[1;31mNameError\u001b[0m: name 'np' is not defined"
     ]
    }
   ],
   "source": [
    "Conjunto =np.array(['e','g1','g2','g3','g4','g5'])  # Definimos un arreglo con los elementos que representan el conjunto\n",
    "Matriz = np.array([                                 # Definimos una matriz con los elementos dentro de la tabla de cayley\n",
    "            [ 'e','g1','g2','g3','g4','g5'],\n",
    "            ['g1', 'e','g3','g4','g5','g2'],\n",
    "            ['g2','g3', 'e','g5','g1','g4'],\n",
    "            ['g3','g4','g5', 'e','g2','g1'],\n",
    "            ['g4','g5','g1','g2', 'e','g3'],\n",
    "            ['g5','g2','g4','g1','g3','e']\n",
    "         ])"
   ]
  },
  {
   "cell_type": "markdown",
   "id": "55644406",
   "metadata": {},
   "source": [
    "<p>Declaración de banderas<p/>"
   ]
  },
  {
   "cell_type": "code",
   "execution_count": 8,
   "id": "41d8d8c2",
   "metadata": {},
   "outputs": [],
   "source": [
    "EsCerrada=False\n",
    "HayNeutro=False\n",
    "HayInversos=False\n",
    "EsAsociativa=False"
   ]
  },
  {
   "cell_type": "markdown",
   "id": "5c883c81",
   "metadata": {},
   "source": [
    "<p>Verificación si la matriz es cerrada<p/>"
   ]
  },
  {
   "cell_type": "code",
   "execution_count": 9,
   "id": "5fc0bb1c",
   "metadata": {},
   "outputs": [],
   "source": [
    "def VerificarCerrada(Conjunto, Matriz):                    #Se toman de parámetros el conjunto y matriz instanciados anteriormente.\n",
    "    tamMatriz = len(Matriz)\n",
    "    for i in range(tamMatriz):\n",
    "        for j in range(tamMatriz):                          #Se accede a la matriz dada.\n",
    "            if (Matriz[i][j] not in Conjunto):              #Revisa si los elementos de la matriz no están dentro del conjunto base.\n",
    "                return False                                #Retorna falso (booleano) si no es cerrada.\n",
    "    return True "
   ]
  },
  {
   "cell_type": "markdown",
   "id": "18bc936d",
   "metadata": {},
   "source": [
    "<p>Calcular el elemento neutro<p/>"
   ]
  },
  {
   "cell_type": "code",
   "execution_count": 10,
   "id": "7227d18b",
   "metadata": {},
   "outputs": [],
   "source": [
    "def CalcularNeutro(Conjunto,Matriz):\n",
    "\n",
    "    Neutrofila=[False,None]\n",
    "    Neutrocolumna=[False,None]\n",
    "    TamMatriz = len(Matriz)                           #Es el tamaño de la matriz\n",
    "    MatTranspuesta = Matriz.transpose()               #Entrega la matriz transpuesta según la original.\n",
    "           \n",
    "    for i in range(TamMatriz):\n",
    "        if(np.array_equal(Matriz[i],Conjunto)):                 #Revisa si la fila de la matriz es equivalente al conjunto inicial dado.\n",
    "            Neutrofila[0]=True\n",
    "            Neutrofila[1]=Conjunto[i]                           #Guarda el posible elemento neutro de las filas.\n",
    "\n",
    "        if(np.array_equal(MatTranspuesta[i],Conjunto)):         #Revisa si la fila de la matriz transpuesta (columna original)... \n",
    "            Neutrocolumna[0]=True                               #es equivalente al conjunto inicial dado.\n",
    "            Neutrocolumna[1]=Conjunto[i]                        #Guarda el posible elemento neutro de las columnas.\n",
    "\n",
    "        if (Neutrofila[0] and Neutrocolumna[0] and (Neutrofila[1]==Neutrocolumna[1])): \n",
    "            return True, Neutrofila[1]                          #Si encuentra el elemento neutro en fila y columna lo retorna.\n",
    "\n",
    "    return False, None                                          #Retorna falso (booleano) y none si no no encuentra el elemento neutro. "
   ]
  },
  {
   "cell_type": "markdown",
   "id": "41f154cc",
   "metadata": {},
   "source": [
    "<p>Identificamos el elemento neutro de la matriz, si es cerrada o no<p/>"
   ]
  },
  {
   "cell_type": "code",
   "execution_count": 11,
   "id": "42efae29",
   "metadata": {},
   "outputs": [
    {
     "ename": "NameError",
     "evalue": "name 'Conjunto' is not defined",
     "output_type": "error",
     "traceback": [
      "\u001b[1;31m---------------------------------------------------------------------------\u001b[0m",
      "\u001b[1;31mNameError\u001b[0m                                 Traceback (most recent call last)",
      "Cell \u001b[1;32mIn[11], line 1\u001b[0m\n\u001b[1;32m----> 1\u001b[0m EsCerrada \u001b[38;5;241m=\u001b[39m VerificarCerrada(\u001b[43mConjunto\u001b[49m, Matriz)\n\u001b[0;32m      2\u001b[0m \u001b[38;5;28;01mif\u001b[39;00m (EsCerrada):                                                     \u001b[38;5;66;03m#Si la matriz es cerrada cambiar la bandera de HayNeutro a True\u001b[39;00m\n\u001b[0;32m      3\u001b[0m     HayNeutro, Neutro \u001b[38;5;241m=\u001b[39m CalcularNeutro(Conjunto,Matriz)             \u001b[38;5;66;03m#Y guarda el elemento Neutro en la variable del mismo nombre.\u001b[39;00m\n",
      "\u001b[1;31mNameError\u001b[0m: name 'Conjunto' is not defined"
     ]
    }
   ],
   "source": [
    "EsCerrada = VerificarCerrada(Conjunto, Matriz)\n",
    "if (EsCerrada):                                                     #Si la matriz es cerrada cambiar la bandera de HayNeutro a True\n",
    "    HayNeutro, Neutro = CalcularNeutro(Conjunto,Matriz)             #Y guarda el elemento Neutro en la variable del mismo nombre."
   ]
  },
  {
   "cell_type": "markdown",
   "id": "093c48f4",
   "metadata": {},
   "source": [
    "<p>BuscarInverso() es la función que nos permite revisar los inversos dentro de la tabla de Cayley. Esta función realiza su tarea bajo la definición del elemento inverso diciendo que si existe, la operación del mismo con el elemento original debe dar el elemento neutro.<p/>"
   ]
  },
  {
   "cell_type": "code",
   "execution_count": 12,
   "id": "e40d8e55",
   "metadata": {},
   "outputs": [],
   "source": [
    "def BuscarInverso(NumElemento,Conjunto,Matriz,Neutro):\n",
    "    MatTranspuesta = Matriz.transpose()                             #Transpone la Matriz base\n",
    "    InversoFila=None\n",
    "    InversoColumna=None\n",
    "    if (Neutro in Matriz[NumElemento]):                             #Busca si el Elemento neutro está en el índice dado en las filas\n",
    "        InversoFila=Conjunto[np.where(Matriz[NumElemento]==Neutro)] #np.where busca en la matriz el elemento neutro y luego trae...\n",
    "    if (InversoFila):                                               #cuál sería ese elemento.\n",
    "        if (Neutro in MatTranspuesta[NumElemento]):                                   \n",
    "            InversoColumna=Conjunto[np.where(MatTranspuesta[NumElemento]==Neutro)] #Busca si el Elemento neutro está en el índice dado en las columnas\n",
    "        if(InversoFila==InversoColumna):     #Revisa si son iguales los inversos encontrados en la posición puesto que los inversos son asociativos.\n",
    "            return True\n",
    "    return False      #Si no hay algún elemento neutro entonces el inverso no puede existir por la definición de si mismo.\n",
    "\n",
    "#Verifica la unicidad de los elementos inversos para cualquier elemento dentro de la operación.\n",
    "def VerificarInversos(Conjunto,Matriz,Neutro):\n",
    "    for numelemento in range(len(Conjunto)):\n",
    "        if (not BuscarInverso(numelemento,Conjunto,Matriz,Neutro)):\n",
    "            return False\n",
    "    return True"
   ]
  },
  {
   "cell_type": "code",
   "execution_count": 13,
   "id": "43f93620",
   "metadata": {},
   "outputs": [],
   "source": [
    "if (HayNeutro):\n",
    "    HayInversos=VerificarInversos(Conjunto,Matriz,Neutro) #Si encuentra un Neutro ejecuta la función HayInversos."
   ]
  },
  {
   "cell_type": "markdown",
   "id": "c01b9390",
   "metadata": {},
   "source": [
    "<p>Asociatividad<p/>"
   ]
  },
  {
   "cell_type": "code",
   "execution_count": 14,
   "id": "d30b28e6",
   "metadata": {},
   "outputs": [],
   "source": [
    "def IsAsociative(Conjunto,Matriz):\n",
    "    n = len(Conjunto)\n",
    "    lista=[]\n",
    "    for i in range(n):\n",
    "      lista.append(i)\n",
    "    result = []\n",
    "    for i in range(n-2):\n",
    "        for j in range(i+1, n-1):\n",
    "            for k in range(j+1, n):\n",
    "                result.append([lista[i], lista[j], lista[k]])                           # encuentra los 3 elementos\n",
    "    \n",
    "    ban=True\n",
    "    posibilidades=result\n",
    "    for i in range(len(posibilidades)):\n",
    "      resultado1=np.where(Conjunto==Matriz[posibilidades[i][1]][posibilidades[i][2]])[0][0]       # \"\"     \"\"      \"\"       \"\" \n",
    "      resultado2=np.where(Conjunto==Matriz[posibilidades[i][0]][posibilidades[i][1]])[0][0]       # calcula las dos operaciones\n",
    "      if(Matriz[(posibilidades[i][0])][resultado1]!=Matriz[resultado2][(posibilidades[i][2])]):   # revisa si no son equivalentes\n",
    "        ban=False                                                         # retorna Falso (booleano) en caso de no ser Asociativa\n",
    "        i=len(posibilidades)-1\n",
    "    return ban                                                            # retorna Verdadero (booleano) en caso de ser Asociativa"
   ]
  },
  {
   "cell_type": "code",
   "execution_count": 15,
   "id": "f2482b99",
   "metadata": {},
   "outputs": [],
   "source": [
    "if (HayInversos):                         #Si encuentra los inversos ejecuta la función EsAsociativa.\n",
    "    EsAsociativa = IsAsociative(Conjunto,Matriz)"
   ]
  },
  {
   "cell_type": "markdown",
   "id": "d88db974",
   "metadata": {},
   "source": [
    "<p>Si estas tres comprobaciones se cumplen, podemos decir que la matriz inicial es un grupo (Y a su vez, un cuadrado latino). Si no, procedemos a verificar si la matriz es un cuadro latino o no.<p/>"
   ]
  },
  {
   "cell_type": "code",
   "execution_count": 16,
   "id": "875c22d5",
   "metadata": {},
   "outputs": [
    {
     "name": "stdout",
     "output_type": "stream",
     "text": [
      "El conjunto más la operación definida por la tabla de Cayley ingresadas NO son un grupo\n"
     ]
    }
   ],
   "source": [
    "if (EsCerrada and HayNeutro and HayInversos and EsAsociativa):\n",
    "    print(\"El conjunto más la operación definida por la tabla de Cayley ingresadas son un grupo, y un cuadrado latino.\")\n",
    "else:\n",
    "    print(\"El conjunto más la operación definida por la tabla de Cayley ingresadas NO son un grupo\")\n",
    "    EsGrupo=False"
   ]
  },
  {
   "cell_type": "markdown",
   "id": "1bc3aaf1",
   "metadata": {},
   "source": [
    "<p>Bibliografía\n",
    "\n",
    "https://marcelgoh.ca/2018/10/06/cayley-tables.html\n",
    "\n",
    "Clifford, Alfred Hoblitzelle; Preston, Gordon Bamford (1961). The algebraic theory of semigroups. Vol. I. Mathematical Surveys, No. 7. Providence, R.I.: American Mathematical Society. ISBN 978-0-8218-0272-4. MR 0132791. (pp. 7–9)\n",
    "\n",
    "https://gist.github.com/jfinkels/c33681e7f7b54421ea02<p/>"
   ]
  },
  {
   "cell_type": "code",
   "execution_count": null,
   "id": "fa2e2c58",
   "metadata": {},
   "outputs": [],
   "source": []
  }
 ],
 "metadata": {
  "kernelspec": {
   "display_name": "Python 3 (ipykernel)",
   "language": "python",
   "name": "python3"
  },
  "language_info": {
   "codemirror_mode": {
    "name": "ipython",
    "version": 3
   },
   "file_extension": ".py",
   "mimetype": "text/x-python",
   "name": "python",
   "nbconvert_exporter": "python",
   "pygments_lexer": "ipython3",
   "version": "3.10.10"
  }
 },
 "nbformat": 4,
 "nbformat_minor": 5
}
